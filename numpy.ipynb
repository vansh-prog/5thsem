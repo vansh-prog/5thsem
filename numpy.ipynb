{
 "cells": [
  {
   "cell_type": "markdown",
   "id": "1191340f",
   "metadata": {},
   "source": [
    "\n",
    "\n",
    "\n",
    "\n",
    "item_list=[\"Bread\",\"Milk\",\"Eggs\",\"Butter\",\"Cocoa\"]\n",
    "students_marks=[78,47,96,55,34]\n",
    "hetero_list=[1,2,3.0,'text', True ,3+2j]\n"
   ]
  },
  {
   "cell_type": "code",
   "execution_count": 1,
   "id": "bbacba68",
   "metadata": {},
   "outputs": [
    {
     "name": "stdout",
     "output_type": "stream",
     "text": [
      "[83, 52, 101, 60, 39]\n"
     ]
    }
   ],
   "source": [
    "student_marks= [78,47,96,55,34]\n",
    "for i in range(len(student_marks)):\n",
    "    student_marks [i]+=5\n",
    "print(student_marks)"
   ]
  },
  {
   "cell_type": "code",
   "execution_count": 9,
   "id": "c9fa6b38",
   "metadata": {},
   "outputs": [
    {
     "name": "stdout",
     "output_type": "stream",
     "text": [
      "CPU times: total: 172 ms\n",
      "Wall time: 287 ms\n"
     ]
    }
   ],
   "source": [
    "%%time \n",
    "list1 = list(range(1,1000000))\n",
    "list2 = list(range(2,1000001))\n",
    "list3 = []\n",
    "for i in range(len(list1)):\n",
    "    list3.append(list1[i]+list2[i])"
   ]
  },
  {
   "cell_type": "code",
   "execution_count": 16,
   "id": "b699b947",
   "metadata": {},
   "outputs": [
    {
     "name": "stdout",
     "output_type": "stream",
     "text": [
      "CPU times: total: 0 ns\n",
      "Wall time: 14.7 ms\n"
     ]
    }
   ],
   "source": [
    "%%time \n",
    "import numpy as np\n",
    "a = np.arange(1,1000000)\n",
    "b = np.arange(2,1000001)\n",
    "c = a+b    "
   ]
  },
  {
   "cell_type": "code",
   "execution_count": 17,
   "id": "94e3c333",
   "metadata": {},
   "outputs": [
    {
     "data": {
      "text/plain": [
       "array([[ 18,  15,  18,  16,  17],\n",
       "       [130, 165, 150, 150, 140],\n",
       "       [307, 350, 318, 304, 302]])"
      ]
     },
     "execution_count": 17,
     "metadata": {},
     "output_type": "execute_result"
    }
   ],
   "source": [
    "car_attributes = [[18,15,18,16,17],[130,165,150,150,140],[307,350,318,304,302]]\n",
    "car_attributes_arr=np.array(car_attributes)\n",
    "car_attributes_arr"
   ]
  },
  {
   "cell_type": "code",
   "execution_count": 18,
   "id": "ef69bba3",
   "metadata": {},
   "outputs": [
    {
     "data": {
      "text/plain": [
       "(3, 5)"
      ]
     },
     "execution_count": 18,
     "metadata": {},
     "output_type": "execute_result"
    }
   ],
   "source": [
    "car_attributes = [[18,15,18,16,17],[130,165,150,150,140],[307,350,318,304,302]]\n",
    "car_attributes_arr=np.array(car_attributes)\n",
    "car_attributes_arr.shape"
   ]
  },
  {
   "cell_type": "code",
   "execution_count": 20,
   "id": "10c4a0bc",
   "metadata": {},
   "outputs": [
    {
     "name": "stdout",
     "output_type": "stream",
     "text": [
      "[[ 18.  15.  18.  16.  17.]\n",
      " [130. 165. 150. 150. 140.]\n",
      " [307. 350. 318. 304. 302.]]\n",
      "float64\n"
     ]
    }
   ],
   "source": [
    "car_attributes = [[18,15,18,16,17],[130,165,150,150,140],[307,350,318,304,302]]\n",
    "car_attributes_arr=np.array(car_attributes, dtype ='float')\n",
    "print(car_attributes_arr)\n",
    "print(car_attributes_arr.dtype)"
   ]
  },
  {
   "cell_type": "code",
   "execution_count": 2,
   "id": "3f0a81f0",
   "metadata": {},
   "outputs": [
    {
     "data": {
      "text/plain": [
       "'buick skylark 320'"
      ]
     },
     "execution_count": 2,
     "metadata": {},
     "output_type": "execute_result"
    }
   ],
   "source": [
    "import numpy as np\n",
    "cars = np.array(['chevrolet chevelle malibu', 'buick skylark 320', 'plymouth satellite', 'amc rebel sst', 'ford torino'])\n",
    "cars[1]\n"
   ]
  },
  {
   "cell_type": "code",
   "execution_count": 3,
   "id": "7b42a549",
   "metadata": {},
   "outputs": [
    {
     "data": {
      "text/plain": [
       "array([['chevrolet chevelle malibu', 'buick skylark 320',\n",
       "        'plymouth satellite', 'amc rebel sst', 'ford torino'],\n",
       "       ['130', '165', '150', '150', '140']], dtype='<U25')"
      ]
     },
     "execution_count": 3,
     "metadata": {},
     "output_type": "execute_result"
    }
   ],
   "source": [
    "import numpy as np\n",
    "car_names = ['chevrolet chevelle malibu', 'buick skylark 320', 'plymouth satellite', 'amc rebel sst', 'ford torino']\n",
    "horsepower = [130, 165, 150, 150, 140]\n",
    "car_hp_arr = np.array([car_names, horsepower])\n",
    "car_hp_arr\n"
   ]
  },
  {
   "cell_type": "code",
   "execution_count": 4,
   "id": "40419efd",
   "metadata": {},
   "outputs": [
    {
     "data": {
      "text/plain": [
       "array(['chevrolet chevelle malibu', 'buick skylark 320',\n",
       "       'plymouth satellite', 'amc rebel sst', 'ford torino'], dtype='<U25')"
      ]
     },
     "execution_count": 4,
     "metadata": {},
     "output_type": "execute_result"
    }
   ],
   "source": [
    "car_names = ['chevrolet chevelle malibu', 'buick skylark 320', 'plymouth satellite', 'amc rebel sst', 'ford torino']\n",
    "horsepower = [130, 165, 150, 150, 140]\n",
    "car_hp_arr = np.array([car_names, horsepower])\n",
    "car_hp_arr[0]\n"
   ]
  },
  {
   "cell_type": "code",
   "execution_count": 5,
   "id": "03b21a0e",
   "metadata": {},
   "outputs": [
    {
     "data": {
      "text/plain": [
       "array(['130', '165', '150', '150', '140'], dtype='<U25')"
      ]
     },
     "execution_count": 5,
     "metadata": {},
     "output_type": "execute_result"
    }
   ],
   "source": [
    "car_names = ['chevrolet chevelle malibu', 'buick skylark 320', 'plymouth satellite', 'amc rebel sst', 'ford torino']\n",
    "horsepower = [130, 165, 150, 150, 140]\n",
    "car_hp_arr = np.array([car_names, horsepower])\n",
    "car_hp_arr[1]\n"
   ]
  },
  {
   "cell_type": "code",
   "execution_count": 6,
   "id": "a828a66d",
   "metadata": {},
   "outputs": [
    {
     "data": {
      "text/plain": [
       "'buick skylark 320'"
      ]
     },
     "execution_count": 6,
     "metadata": {},
     "output_type": "execute_result"
    }
   ],
   "source": [
    "car_names = ['chevrolet chevelle malibu', 'buick skylark 320', 'plymouth satellite', 'amc rebel sst', 'ford torino']\n",
    "horsepower = [130, 165, 150, 150, 140]\n",
    "car_hp_arr = np.array([car_names, horsepower])\n",
    "car_hp_arr[0,1]\n"
   ]
  },
  {
   "cell_type": "code",
   "execution_count": 7,
   "id": "e5fd811d",
   "metadata": {},
   "outputs": [
    {
     "data": {
      "text/plain": [
       "'ford torino'"
      ]
     },
     "execution_count": 7,
     "metadata": {},
     "output_type": "execute_result"
    }
   ],
   "source": [
    "car_names = ['chevrolet chevelle malibu', 'buick skylark 320', 'plymouth satellite', 'amc rebel sst', 'ford torino']\n",
    "horsepower = [130, 165, 150, 150, 140]\n",
    "car_hp_arr = np.array([car_names, horsepower])\n",
    "car_hp_arr[0,-1]\n"
   ]
  },
  {
   "cell_type": "code",
   "execution_count": 8,
   "id": "430a5ddd",
   "metadata": {},
   "outputs": [
    {
     "data": {
      "text/plain": [
       "array(['buick skylark 320', 'plymouth satellite', 'amc rebel sst'],\n",
       "      dtype='<U25')"
      ]
     },
     "execution_count": 8,
     "metadata": {},
     "output_type": "execute_result"
    }
   ],
   "source": [
    "cars = np.array(['chevrolet chevelle malibu', 'buick skylark 320', 'plymouth satellite', 'amc rebel sst', 'ford torino'])\n",
    "cars[1:4]\n"
   ]
  },
  {
   "cell_type": "code",
   "execution_count": 9,
   "id": "c163f2ea",
   "metadata": {},
   "outputs": [
    {
     "data": {
      "text/plain": [
       "array([['chevrolet chevelle malibu', 'buick skylark 320',\n",
       "        'plymouth satellite', 'amc rebel sst', 'ford torino'],\n",
       "       ['130', '165', '150', '150', '140'],\n",
       "       ['18', '15', '18', '16', '17']], dtype='<U25')"
      ]
     },
     "execution_count": 9,
     "metadata": {},
     "output_type": "execute_result"
    }
   ],
   "source": [
    "car_names = ['chevrolet chevelle malibu', 'buick skylark 320', 'plymouth satellite', 'amc rebel sst', 'ford torino']\n",
    "horsepower = [130, 165, 150, 150, 140]\n",
    "acceleration = [18, 15, 18, 16, 17]\n",
    "car_hp_acc_arr = np.array([car_names, horsepower, acceleration])\n",
    "car_hp_acc_arr\n"
   ]
  },
  {
   "cell_type": "code",
   "execution_count": 10,
   "id": "e04feb30",
   "metadata": {},
   "outputs": [
    {
     "data": {
      "text/plain": [
       "array([['chevrolet chevelle malibu', 'buick skylark 320',\n",
       "        'plymouth satellite', 'amc rebel sst', 'ford torino'],\n",
       "       ['130', '165', '150', '150', '140']], dtype='<U25')"
      ]
     },
     "execution_count": 10,
     "metadata": {},
     "output_type": "execute_result"
    }
   ],
   "source": [
    "car_names = ['chevrolet chevelle malibu', 'buick skylark 320', 'plymouth satellite', 'amc rebel sst', 'ford torino']\n",
    "horsepower = [130, 165, 150, 150, 140]\n",
    "acceleration = [18, 15, 18, 16, 17]\n",
    "car_hp_acc_arr = np.array([car_names, horsepower, acceleration])\n",
    "car_hp_acc_arr[0:2]\n"
   ]
  },
  {
   "cell_type": "code",
   "execution_count": 11,
   "id": "bba48260",
   "metadata": {},
   "outputs": [
    {
     "data": {
      "text/plain": [
       "array([['amc rebel sst', 'ford torino'],\n",
       "       ['150', '140']], dtype='<U25')"
      ]
     },
     "execution_count": 11,
     "metadata": {},
     "output_type": "execute_result"
    }
   ],
   "source": [
    "car_names = ['chevrolet chevelle malibu', 'buick skylark 320', 'plymouth satellite', 'amc rebel sst', 'ford torino']\n",
    "horsepower = [130, 165, 150, 150, 140]\n",
    "acceleration = [18, 15, 18, 16, 17]\n",
    "car_hp_acc_arr = np.array([car_names, horsepower, acceleration])\n",
    "car_hp_acc_arr[0:2, 3:5]\n"
   ]
  },
  {
   "cell_type": "code",
   "execution_count": 12,
   "id": "37ec1426",
   "metadata": {},
   "outputs": [
    {
     "data": {
      "text/plain": [
       "array([['chevrolet chevelle malibu', 'buick skylark 320',\n",
       "        'plymouth satellite'],\n",
       "       ['130', '165', '150'],\n",
       "       ['18', '15', '18']], dtype='<U25')"
      ]
     },
     "execution_count": 12,
     "metadata": {},
     "output_type": "execute_result"
    }
   ],
   "source": [
    "car_names = ['chevrolet chevelle malibu', 'buick skylark 320', 'plymouth satellite', 'amc rebel sst', 'ford torino']\n",
    "horsepower = [130, 165, 150, 150, 140]\n",
    "acceleration = [18, 15, 18, 16, 17]\n",
    "car_hp_acc_arr = np.array([car_names, horsepower, acceleration])\n",
    "car_hp_acc_arr[0:3, 0:3]\n"
   ]
  },
  {
   "cell_type": "code",
   "execution_count": 129,
   "id": "515e0c7a",
   "metadata": {},
   "outputs": [
    {
     "data": {
      "text/plain": [
       "147.0"
      ]
     },
     "execution_count": 129,
     "metadata": {},
     "output_type": "execute_result"
    }
   ],
   "source": [
    "horsepower_arr=np.array([130,165,150,150,140])\n",
    "mean_arr= np.mean(horsepower_arr)\n",
    "mean_arr"
   ]
  },
  {
   "cell_type": "code",
   "execution_count": 17,
   "id": "7cb0d5df",
   "metadata": {},
   "outputs": [
    {
     "data": {
      "text/plain": [
       "150.0"
      ]
     },
     "execution_count": 17,
     "metadata": {},
     "output_type": "execute_result"
    }
   ],
   "source": [
    "\n",
    "horsepower_arr=np.array([130,165,150,150,140])\n",
    "median_arr=  np.median(horsepower_arr)\n",
    "median_arr"
   ]
  },
  {
   "cell_type": "code",
   "execution_count": 131,
   "id": "6698a254",
   "metadata": {},
   "outputs": [
    {
     "name": "stdout",
     "output_type": "stream",
     "text": [
      "130\n",
      "165\n"
     ]
    }
   ],
   "source": [
    "horsepower_arr = np.array( [130, 165, 150, 150, 140])\n",
    "minimum_arr= np.min(horsepower_arr)\n",
    "maximum_arr=np.max(horsepower_arr)\n",
    "print(minimum_arr)\n",
    "print(maximum_arr)"
   ]
  },
  {
   "cell_type": "code",
   "execution_count": 7,
   "id": "04b36a2d",
   "metadata": {},
   "outputs": [
    {
     "name": "stdout",
     "output_type": "stream",
     "text": [
      "(array([1, 2, 3], dtype=int64),)\n",
      "[165 150 150]\n"
     ]
    }
   ],
   "source": [
    "import numpy as np\n",
    "horsepower_arr=np.array([130, 165, 150, 150, 140])\n",
    "x = np.where (horsepower_arr >= 150)\n",
    "print (x)\n",
    "print(horsepower_arr[x])"
   ]
  },
  {
   "cell_type": "code",
   "execution_count": 9,
   "id": "82d5b1fe",
   "metadata": {},
   "outputs": [
    {
     "data": {
      "text/plain": [
       "array([[67, 45],\n",
       "       [90, 92],\n",
       "       [66, 72],\n",
       "       [32, 40]])"
      ]
     },
     "execution_count": 9,
     "metadata": {},
     "output_type": "execute_result"
    }
   ],
   "source": [
    "array11= np.array ([[67,45],[90,92],[66,72],[32,40]])\n",
    "array11"
   ]
  },
  {
   "cell_type": "code",
   "execution_count": 12,
   "id": "79015a56",
   "metadata": {},
   "outputs": [
    {
     "data": {
      "text/plain": [
       "array([[ 72,  55],\n",
       "       [ 95, 102],\n",
       "       [ 71,  82],\n",
       "       [ 37,  50]])"
      ]
     },
     "execution_count": 12,
     "metadata": {},
     "output_type": "execute_result"
    }
   ],
   "source": [
    "array11= np.array ([[67,45],[90,92],[66,72],[32,40]])\n",
    "add_marks=([5,10])\n",
    "x=np.add(array11,add_marks)\n",
    "x\n"
   ]
  },
  {
   "cell_type": "code",
   "execution_count": 20,
   "id": "13df82c6",
   "metadata": {},
   "outputs": [
    {
     "name": "stdout",
     "output_type": "stream",
     "text": [
      "[  0.  25.  50.  75. 100.]\n",
      "Length of arr:  5\n"
     ]
    }
   ],
   "source": [
    "#Generating values between 0 and 10\n",
    "arr = np.linspace(0,100,5)\n",
    "print(arr)\n",
    "print('Length of arr: ',len(arr))\n"
   ]
  },
  {
   "cell_type": "code",
   "execution_count": 23,
   "id": "74421505",
   "metadata": {},
   "outputs": [
    {
     "data": {
      "text/plain": [
       "array([[1.]])"
      ]
     },
     "execution_count": 23,
     "metadata": {},
     "output_type": "execute_result"
    }
   ],
   "source": [
    "#3x3 identity matrix\n",
    "np.eye(1)\n"
   ]
  },
  {
   "cell_type": "code",
   "execution_count": 113,
   "id": "52714f6e",
   "metadata": {},
   "outputs": [
    {
     "name": "stdout",
     "output_type": "stream",
     "text": [
      "before adding and sorting [[   1 6012]\n",
      " [   2 7079]\n",
      " [   3 6886]\n",
      " [   4 7230]\n",
      " [   5 4598]\n",
      " [   6 5564]\n",
      " [   7 6971]\n",
      " [   8 7763]\n",
      " [   9 8032]\n",
      " [  10 9569]]\n",
      "after addition [[    1  8012]\n",
      " [    2  9079]\n",
      " [    3  8886]\n",
      " [    4  9230]\n",
      " [    5  6598]\n",
      " [    6  7564]\n",
      " [    7  8971]\n",
      " [    8  9763]\n",
      " [    9 10032]\n",
      " [   10 11569]]\n",
      "greater than 9000 [[    2  9079]\n",
      " [    4  9230]\n",
      " [    8  9763]\n",
      " [    9 10032]\n",
      " [   10 11569]]\n",
      "after sorting [ 6598  7564  8012  8886  8971  9079  9230  9763 10032 11569]\n"
     ]
    },
    {
     "data": {
      "text/plain": [
       "array([[    5,  6598],\n",
       "       [    6,  7564],\n",
       "       [    1,  8012],\n",
       "       [    3,  8886],\n",
       "       [    7,  8971],\n",
       "       [    2,  9079],\n",
       "       [    4,  9230],\n",
       "       [    8,  9763],\n",
       "       [    9, 10032],\n",
       "       [   10, 11569]])"
      ]
     },
     "execution_count": 113,
     "metadata": {},
     "output_type": "execute_result"
    }
   ],
   "source": [
    "arr2 = np.array([[1,6012],[2,7079],[3,6886],[4,7230],[5,4598],[6,5564],[7,6971],[8,7763],[9,8032],[10,9569]])\n",
    "print(\"before adding and sorting\",arr2)\n",
    "\n",
    "steps = np.array([[6012],[7079],[6886],[7230],[4598],[5564],[6971],[7763],[8032],[9569]])\n",
    "add =[0,2000]\n",
    "\n",
    "step = arr2+add\n",
    "print(\"after addition\",step)\n",
    "\n",
    "step1 = np.where(step[:,1]>9000)\n",
    "print(\"greater than 9000\",step[step1])\n",
    "\n",
    "test = np.sort(step[:,1])\n",
    "print(\"after sorting\",test)\n",
    "step[cc]"
   ]
  },
  {
   "cell_type": "code",
   "execution_count": 114,
   "id": "479a4d9e",
   "metadata": {},
   "outputs": [
    {
     "data": {
      "text/plain": [
       "array([[    5,  6598],\n",
       "       [    6,  7564],\n",
       "       [    1,  8012],\n",
       "       [    3,  8886],\n",
       "       [    7,  8971],\n",
       "       [    2,  9079],\n",
       "       [    4,  9230],\n",
       "       [    8,  9763],\n",
       "       [    9, 10032],\n",
       "       [   10, 11569]])"
      ]
     },
     "execution_count": 114,
     "metadata": {},
     "output_type": "execute_result"
    }
   ],
   "source": [
    "cc = step[:,1].argsort()\n",
    "step[cc]"
   ]
  },
  {
   "cell_type": "code",
   "execution_count": 117,
   "id": "b35198ef",
   "metadata": {},
   "outputs": [
    {
     "name": "stdout",
     "output_type": "stream",
     "text": [
      "11\n",
      "[4 7]\n",
      "[3 8]\n"
     ]
    }
   ],
   "source": [
    "import numpy as np\n",
    "arr = np.array([[1, 2], [3, 5]])\n",
    "print(np.sum(arr)) \n",
    "print(np.sum(arr, axis=0))\n",
    "print(np.sum(arr, axis=1)) \n"
   ]
  },
  {
   "cell_type": "code",
   "execution_count": 126,
   "id": "c559072d",
   "metadata": {},
   "outputs": [
    {
     "name": "stdout",
     "output_type": "stream",
     "text": [
      "2.5\n",
      "[2. 3.]\n",
      "[1.5 3.5]\n"
     ]
    }
   ],
   "source": [
    "arr = np.array([[1, 2], [3, 4]])\n",
    "print(np.mean(arr))\n",
    "print(np.mean(arr, axis=0)) \n",
    "print(np.mean(arr, axis=1)) "
   ]
  },
  {
   "cell_type": "code",
   "execution_count": 128,
   "id": "1d92e555",
   "metadata": {},
   "outputs": [
    {
     "name": "stdout",
     "output_type": "stream",
     "text": [
      "4\n",
      "[3 4]\n",
      "[2 4]\n",
      "1\n",
      "[1 2]\n",
      "[1 3]\n"
     ]
    }
   ],
   "source": [
    "arr = np.array([[1, 2], [3, 4]])\n",
    "print(np.max(arr)) \n",
    "print(np.max(arr, axis=0)) \n",
    "print(np.max(arr, axis=1)) \n",
    "print(np.min(arr))\n",
    "print(np.min(arr, axis=0))\n",
    "print(np.min(arr, axis=1))"
   ]
  },
  {
   "cell_type": "code",
   "execution_count": 132,
   "id": "fe657f2c",
   "metadata": {},
   "outputs": [
    {
     "name": "stdout",
     "output_type": "stream",
     "text": [
      "2.5\n",
      "[2. 3.]\n",
      "[1.5 3.5]\n"
     ]
    }
   ],
   "source": [
    "arr = np.array([[1, 2], [3, 4]])\n",
    "print(np.median(arr))\n",
    "print(np.median(arr, axis=0))\n",
    "print(np.median(arr, axis=1))"
   ]
  },
  {
   "cell_type": "code",
   "execution_count": 134,
   "id": "8b3c392b",
   "metadata": {},
   "outputs": [
    {
     "name": "stdout",
     "output_type": "stream",
     "text": [
      "24\n",
      "[3 8]\n",
      "[ 2 12]\n"
     ]
    }
   ],
   "source": [
    "arr = np.array([[1, 2], [3, 4]])\n",
    "print(np.prod(arr))\n",
    "print(np.prod(arr, axis=0)) \n",
    "print(np.prod(arr, axis=1)) "
   ]
  },
  {
   "cell_type": "code",
   "execution_count": 136,
   "id": "b7b31540",
   "metadata": {},
   "outputs": [
    {
     "name": "stdout",
     "output_type": "stream",
     "text": [
      "1.118033988749895\n",
      "[1. 1.]\n",
      "[0.5 0.5]\n"
     ]
    }
   ],
   "source": [
    "arr = np.array([[1, 2], [3, 4]])\n",
    "print(np.std(arr))\n",
    "print(np.std(arr, axis=0)) \n",
    "print(np.std(arr, axis=1)) #not understand"
   ]
  },
  {
   "cell_type": "code",
   "execution_count": 137,
   "id": "6bfff600",
   "metadata": {},
   "outputs": [
    {
     "name": "stdout",
     "output_type": "stream",
     "text": [
      "1.25\n",
      "[1. 1.]\n",
      "[0.25 0.25]\n"
     ]
    }
   ],
   "source": [
    "arr = np.array([[1, 2], [3, 4]])\n",
    "print(np.var(arr))\n",
    "print(np.var(arr, axis=0))\n",
    "print(np.var(arr, axis=1)) #not understand"
   ]
  },
  {
   "cell_type": "code",
   "execution_count": 138,
   "id": "2e2085bc",
   "metadata": {},
   "outputs": [
    {
     "name": "stdout",
     "output_type": "stream",
     "text": [
      "[5 7 9]\n"
     ]
    }
   ],
   "source": [
    "arr1 = np.array([1, 2, 3])\n",
    "arr2 = np.array([4, 5, 6])\n",
    "result = arr1 + arr2\n",
    "print(result) "
   ]
  },
  {
   "cell_type": "code",
   "execution_count": 139,
   "id": "fc225a89",
   "metadata": {},
   "outputs": [
    {
     "name": "stdout",
     "output_type": "stream",
     "text": [
      "[3 3 3]\n"
     ]
    }
   ],
   "source": [
    "arr1 = np.array([4, 5, 6])\n",
    "arr2 = np.array([1, 2, 3])\n",
    "result = arr1 - arr2\n",
    "print(result) "
   ]
  },
  {
   "cell_type": "code",
   "execution_count": 140,
   "id": "d253c616",
   "metadata": {},
   "outputs": [
    {
     "name": "stdout",
     "output_type": "stream",
     "text": [
      "[ 4 10 18]\n"
     ]
    }
   ],
   "source": [
    "arr1 = np.array([1, 2, 3])\n",
    "arr2 = np.array([4, 5, 6])\n",
    "result = arr1 * arr2\n",
    "print(result) "
   ]
  },
  {
   "cell_type": "code",
   "execution_count": 141,
   "id": "f862527b",
   "metadata": {},
   "outputs": [
    {
     "name": "stdout",
     "output_type": "stream",
     "text": [
      "[2. 2. 2.]\n"
     ]
    }
   ],
   "source": [
    "arr1 = np.array([4, 6, 8])\n",
    "arr2 = np.array([2, 3, 4])\n",
    "result = arr1 / arr2\n",
    "print(result) "
   ]
  },
  {
   "cell_type": "code",
   "execution_count": 142,
   "id": "dee05f1c",
   "metadata": {},
   "outputs": [
    {
     "name": "stdout",
     "output_type": "stream",
     "text": [
      "[2. 3. 4.]\n"
     ]
    }
   ],
   "source": [
    "arr = np.array([4, 9, 16])\n",
    "result = np.sqrt(arr)\n",
    "print(result)"
   ]
  },
  {
   "cell_type": "code",
   "execution_count": 143,
   "id": "00badff1",
   "metadata": {},
   "outputs": [
    {
     "name": "stdout",
     "output_type": "stream",
     "text": [
      "[False  True  True]\n"
     ]
    }
   ],
   "source": [
    "arr1 = np.array([1, 2, 3])\n",
    "arr2 = np.array([2, 2, 3])\n",
    "result = arr1 == arr2\n",
    "print(result)"
   ]
  },
  {
   "cell_type": "code",
   "execution_count": 144,
   "id": "ad46ac9c",
   "metadata": {},
   "outputs": [
    {
     "name": "stdout",
     "output_type": "stream",
     "text": [
      "3.5\n",
      "[0.81649658 0.81649658]\n",
      "[5 7 9]\n"
     ]
    }
   ],
   "source": [
    "arr = np.array([[1, 2, 3], [4, 5, 6]])\n",
    "result_mean = np.mean(arr)\n",
    "result_std = np.std(arr, axis=1)\n",
    "result_sum = np.sum(arr, axis=0)\n",
    "print(result_mean)\n",
    "print(result_std)\n",
    "print(result_sum)"
   ]
  },
  {
   "cell_type": "code",
   "execution_count": 145,
   "id": "fdd0aae1",
   "metadata": {},
   "outputs": [
    {
     "name": "stdout",
     "output_type": "stream",
     "text": [
      "[2. 5. 6.]\n"
     ]
    }
   ],
   "source": [
    "import numpy as np\n",
    "arr = np.array([2.3, 4.7, 6.1])\n",
    "result = np.round(arr)\n",
    "print(result) "
   ]
  },
  {
   "cell_type": "code",
   "execution_count": 146,
   "id": "6890c67c",
   "metadata": {},
   "outputs": [
    {
     "name": "stdout",
     "output_type": "stream",
     "text": [
      "[ 4  9 16]\n"
     ]
    }
   ],
   "source": [
    "arr = np.array([2, 3, 4])\n",
    "result = np.power(arr, 2)\n",
    "print(result)"
   ]
  },
  {
   "cell_type": "code",
   "execution_count": 147,
   "id": "97914156",
   "metadata": {},
   "outputs": [
    {
     "name": "stdout",
     "output_type": "stream",
     "text": [
      "[1 0 0]\n"
     ]
    }
   ],
   "source": [
    "arr = np.array([1, 5, 10])\n",
    "result = np.where(arr < 5, arr, 0)\n",
    "print(result) "
   ]
  },
  {
   "cell_type": "code",
   "execution_count": 148,
   "id": "5fead70b",
   "metadata": {},
   "outputs": [
    {
     "name": "stdout",
     "output_type": "stream",
     "text": [
      "[ 1  3  6 10 15]\n"
     ]
    }
   ],
   "source": [
    "arr = np.array([1, 2, 3, 4, 5])\n",
    "result = np.cumsum(arr)\n",
    "print(result) "
   ]
  },
  {
   "cell_type": "code",
   "execution_count": 149,
   "id": "c6058995",
   "metadata": {},
   "outputs": [
    {
     "name": "stdout",
     "output_type": "stream",
     "text": [
      "[1 2 3 4 5]\n"
     ]
    }
   ],
   "source": [
    "arr = np.array([3, 1, 4, 2, 5])\n",
    "result = np.sort(arr)\n",
    "print(result) "
   ]
  },
  {
   "cell_type": "code",
   "execution_count": 155,
   "id": "cae1de69",
   "metadata": {},
   "outputs": [],
   "source": [
    "S_X = np.array([[2, 5, 6, 5],[4, 8, 6, 5]])\n",
    "S_Y = np.array([[6, 7, 5, 9],[7, 5, 6, 4]])\n"
   ]
  },
  {
   "cell_type": "code",
   "execution_count": 151,
   "id": "c2f14b35",
   "metadata": {},
   "outputs": [
    {
     "name": "stdout",
     "output_type": "stream",
     "text": [
      "[[ 4  2 -1  4]\n",
      " [ 3 -3  0 -1]]\n"
     ]
    }
   ],
   "source": [
    "quarterly_difference = S_Y - S_X\n",
    "print(quarterly_difference)"
   ]
  },
  {
   "cell_type": "code",
   "execution_count": 156,
   "id": "511f83c8",
   "metadata": {},
   "outputs": [
    {
     "name": "stdout",
     "output_type": "stream",
     "text": [
      "[[False False False False]\n",
      " [False False False False]]\n"
     ]
    }
   ],
   "source": [
    "less_than_2 = S_X < 2\n",
    "print(less_than_2)"
   ]
  },
  {
   "cell_type": "code",
   "execution_count": 158,
   "id": "fd8e5212",
   "metadata": {},
   "outputs": [
    {
     "name": "stdout",
     "output_type": "stream",
     "text": [
      "[[ 2  7 13 18]\n",
      " [ 4 12 18 23]]\n",
      "[[False False  True  True]\n",
      " [False  True  True  True]]\n"
     ]
    }
   ],
   "source": [
    "X_cumsum = np.cumsum(S_X, axis = 1)\n",
    "print(X_cumsum)\n",
    "print( X_cumsum >= 8)\n"
   ]
  },
  {
   "cell_type": "code",
   "execution_count": 159,
   "id": "501c1a8d",
   "metadata": {},
   "outputs": [
    {
     "name": "stdout",
     "output_type": "stream",
     "text": [
      "[[ 6 13 18 27]\n",
      " [ 7 12 18 22]]\n",
      "[[False  True  True  True]\n",
      " [False  True  True  True]]\n"
     ]
    }
   ],
   "source": [
    "Y_cumsum = np.cumsum(S_Y, axis = 1)\n",
    "print(Y_cumsum)\n",
    "print( Y_cumsum >= 8)"
   ]
  },
  {
   "cell_type": "code",
   "execution_count": 161,
   "id": "6edadf22",
   "metadata": {},
   "outputs": [
    {
     "name": "stdout",
     "output_type": "stream",
     "text": [
      "[4.5  5.75]\n",
      "[6.5 6.  5.5 6.5]\n"
     ]
    }
   ],
   "source": [
    "yearly_mean_X = np.mean(S_X, axis=1)\n",
    "print(yearly_mean_X)\n",
    "quarterly_mean_Y = np.mean(S_Y, axis=0)\n",
    "print(quarterly_mean_Y)\n"
   ]
  },
  {
   "cell_type": "code",
   "execution_count": 162,
   "id": "1ce10ef8",
   "metadata": {},
   "outputs": [
    {
     "name": "stdout",
     "output_type": "stream",
     "text": [
      "[1, 4, 9, 16, 25]\n"
     ]
    }
   ],
   "source": [
    "numbers = [1, 2, 3, 4, 5]\n",
    "squared_numbers = map(lambda x: x ** 2, numbers)\n",
    "print(list(squared_numbers)) "
   ]
  },
  {
   "cell_type": "code",
   "execution_count": 163,
   "id": "42ebd31a",
   "metadata": {},
   "outputs": [
    {
     "name": "stdout",
     "output_type": "stream",
     "text": [
      "[2, 4]\n"
     ]
    }
   ],
   "source": [
    "numbers = [1, 2, 3, 4, 5]\n",
    "even_numbers = filter(lambda x: x % 2 == 0, numbers)\n",
    "print(list(even_numbers))"
   ]
  },
  {
   "cell_type": "code",
   "execution_count": 164,
   "id": "be0868ee",
   "metadata": {},
   "outputs": [
    {
     "name": "stdout",
     "output_type": "stream",
     "text": [
      "15\n"
     ]
    }
   ],
   "source": [
    "from functools import reduce\n",
    "numbers = [1, 2, 3, 4, 5]\n",
    "sum_of_numbers = reduce(lambda x, y: x + y, numbers)\n",
    "print(sum_of_numbers)"
   ]
  },
  {
   "cell_type": "code",
   "execution_count": 165,
   "id": "fc405f54",
   "metadata": {},
   "outputs": [
    {
     "name": "stdout",
     "output_type": "stream",
     "text": [
      "25\n"
     ]
    }
   ],
   "source": [
    "square = lambda x: x ** 2\n",
    "print(square(5)) "
   ]
  },
  {
   "cell_type": "code",
   "execution_count": 5,
   "id": "a79edae6",
   "metadata": {},
   "outputs": [
    {
     "name": "stdout",
     "output_type": "stream",
     "text": [
      "before adding and sorting [[   1 6012]\n",
      " [   2 7079]\n",
      " [   3 6886]\n",
      " [   4 7230]\n",
      " [   5 4598]\n",
      " [   6 5564]\n",
      " [   7 6971]\n",
      " [   8 7763]\n",
      " [   9 8032]\n",
      " [  10 9569]]\n",
      "after addition [[    1  8012]\n",
      " [    2  9079]\n",
      " [    3  8886]\n",
      " [    4  9230]\n",
      " [    5  6598]\n",
      " [    6  7564]\n",
      " [    7  8971]\n",
      " [    8  9763]\n",
      " [    9 10032]\n",
      " [   10 11569]]\n",
      "greater than 9000 [[    2  9079]\n",
      " [    4  9230]\n",
      " [    8  9763]\n",
      " [    9 10032]\n",
      " [   10 11569]]\n",
      "after sorting [ 6598  7564  8012  8886  8971  9079  9230  9763 10032 11569]\n"
     ]
    },
    {
     "ename": "AttributeError",
     "evalue": "'numpy.ndarray' object has no attribute 'add'",
     "output_type": "error",
     "traceback": [
      "\u001b[1;31m---------------------------------------------------------------------------\u001b[0m",
      "\u001b[1;31mAttributeError\u001b[0m                            Traceback (most recent call last)",
      "Cell \u001b[1;32mIn[5], line 18\u001b[0m\n\u001b[0;32m     15\u001b[0m \u001b[38;5;28mprint\u001b[39m(\u001b[38;5;124m\"\u001b[39m\u001b[38;5;124mafter sorting\u001b[39m\u001b[38;5;124m\"\u001b[39m,test)\n\u001b[0;32m     17\u001b[0m \u001b[38;5;28;01mimport\u001b[39;00m \u001b[38;5;21;01mpandas\u001b[39;00m \u001b[38;5;28;01mas\u001b[39;00m \u001b[38;5;21;01mpd\u001b[39;00m\n\u001b[1;32m---> 18\u001b[0m step \u001b[38;5;241m=\u001b[39m \u001b[43mstep\u001b[49m\u001b[38;5;241;43m.\u001b[39;49m\u001b[43madd\u001b[49m([\u001b[38;5;241m0\u001b[39m,\u001b[38;5;241m1000\u001b[39m])\n\u001b[0;32m     19\u001b[0m step\n",
      "\u001b[1;31mAttributeError\u001b[0m: 'numpy.ndarray' object has no attribute 'add'"
     ]
    }
   ],
   "source": [
    "import numpy as np\n",
    "arr2 = np.array([[1,6012],[2,7079],[3,6886],[4,7230],[5,4598],[6,5564],[7,6971],[8,7763],[9,8032],[10,9569]])\n",
    "print(\"before adding and sorting\",arr2)\n",
    "\n",
    "steps = np.array([[6012],[7079],[6886],[7230],[4598],[5564],[6971],[7763],[8032],[9569]])\n",
    "add =[0,2000]\n",
    "\n",
    "step = arr2+add\n",
    "print(\"after addition\",step)\n",
    "\n",
    "step1 = np.where(step[:,1]>9000)\n",
    "print(\"greater than 9000\",step[step1])\n",
    "\n",
    "test = np.sort(step[:,1])\n",
    "print(\"after sorting\",test)\n"
   ]
  },
  {
   "cell_type": "code",
   "execution_count": null,
   "id": "b2bb6c38",
   "metadata": {},
   "outputs": [],
   "source": []
  }
 ],
 "metadata": {
  "kernelspec": {
   "display_name": "Python 3 (ipykernel)",
   "language": "python",
   "name": "python3"
  },
  "language_info": {
   "codemirror_mode": {
    "name": "ipython",
    "version": 3
   },
   "file_extension": ".py",
   "mimetype": "text/x-python",
   "name": "python",
   "nbconvert_exporter": "python",
   "pygments_lexer": "ipython3",
   "version": "3.10.9"
  }
 },
 "nbformat": 4,
 "nbformat_minor": 5
}
